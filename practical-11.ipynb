{
 "cells": [
  {
   "cell_type": "code",
   "execution_count": 1,
   "id": "d572c29d",
   "metadata": {
    "_cell_guid": "b1076dfc-b9ad-4769-8c92-a6c4dae69d19",
    "_uuid": "8f2839f25d086af736a60e9eeb907d3b93b6e0e5",
    "execution": {
     "iopub.execute_input": "2023-10-24T15:58:36.973234Z",
     "iopub.status.busy": "2023-10-24T15:58:36.972842Z",
     "iopub.status.idle": "2023-10-24T15:58:37.288723Z",
     "shell.execute_reply": "2023-10-24T15:58:37.287587Z"
    },
    "papermill": {
     "duration": 0.321854,
     "end_time": "2023-10-24T15:58:37.291211",
     "exception": false,
     "start_time": "2023-10-24T15:58:36.969357",
     "status": "completed"
    },
    "tags": []
   },
   "outputs": [
    {
     "name": "stdout",
     "output_type": "stream",
     "text": [
      "0     60\n",
      "1     30\n",
      "2    NaN\n",
      "3     70\n",
      "4    Dix\n",
      "dtype: object\n",
      "0    False\n",
      "1    False\n",
      "2     True\n",
      "3    False\n",
      "4    False\n",
      "dtype: bool\n",
      "0     True\n",
      "1     True\n",
      "2    False\n",
      "3     True\n",
      "4     True\n",
      "dtype: bool\n"
     ]
    }
   ],
   "source": [
    "#Write a Pandas program to filter all columns where all entries present,check which rows and columns has a NaN and finally drop rows with anyNaNs from the given dataset.\n",
    "\n",
    "# Developed By: Pankhaniya Dixant \n",
    "# Enrollement No: 216270307060\n",
    "\n",
    "import pandas as pd\n",
    "import numpy as np\n",
    "s = pd.Series([60,30,np.nan,70,\"Dix\"])\n",
    "print(s)\n",
    "print(s.isnull())\n",
    "print(s.notnull())"
   ]
  },
  {
   "cell_type": "code",
   "execution_count": null,
   "id": "4098c658",
   "metadata": {
    "papermill": {
     "duration": 0.00319,
     "end_time": "2023-10-24T15:58:37.296402",
     "exception": false,
     "start_time": "2023-10-24T15:58:37.293212",
     "status": "completed"
    },
    "tags": []
   },
   "outputs": [],
   "source": []
  }
 ],
 "metadata": {
  "kernelspec": {
   "display_name": "Python 3",
   "language": "python",
   "name": "python3"
  },
  "language_info": {
   "codemirror_mode": {
    "name": "ipython",
    "version": 3
   },
   "file_extension": ".py",
   "mimetype": "text/x-python",
   "name": "python",
   "nbconvert_exporter": "python",
   "pygments_lexer": "ipython3",
   "version": "3.10.12"
  },
  "papermill": {
   "default_parameters": {},
   "duration": 3.598038,
   "end_time": "2023-10-24T15:58:37.720157",
   "environment_variables": {},
   "exception": null,
   "input_path": "__notebook__.ipynb",
   "output_path": "__notebook__.ipynb",
   "parameters": {},
   "start_time": "2023-10-24T15:58:34.122119",
   "version": "2.4.0"
  }
 },
 "nbformat": 4,
 "nbformat_minor": 5
}
