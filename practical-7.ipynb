{
 "cells": [
  {
   "cell_type": "code",
   "execution_count": 1,
   "id": "85754e90",
   "metadata": {
    "execution": {
     "iopub.execute_input": "2023-10-24T14:34:36.982529Z",
     "iopub.status.busy": "2023-10-24T14:34:36.981939Z",
     "iopub.status.idle": "2023-10-24T14:34:37.503996Z",
     "shell.execute_reply": "2023-10-24T14:34:37.501599Z"
    },
    "papermill": {
     "duration": 0.531313,
     "end_time": "2023-10-24T14:34:37.506990",
     "exception": false,
     "start_time": "2023-10-24T14:34:36.975677",
     "status": "completed"
    },
    "tags": []
   },
   "outputs": [
    {
     "name": "stdout",
     "output_type": "stream",
     "text": [
      "      Name  Age\n",
      "0   Dixant   18\n",
      "1     Deep   17\n",
      "2   Mitesh   20\n",
      "3  Prakash   19\n"
     ]
    }
   ],
   "source": [
    "#Write a Pandas program to implement following operation\n",
    "#to create a dataframe from a dictionary and display it\n",
    "\n",
    "# Developed By: Pankhaniya Dixant \n",
    "# Enrollement No: 216270307060\n",
    "\n",
    "import numpy as np \n",
    "import pandas as pd \n",
    "\n",
    "data = {\n",
    "    'Name': ['Dixant','Deep','Mitesh','Prakash'],\n",
    "    'Age': [18, 17, 20, 19]\n",
    "}\n",
    "\n",
    "df = pd.DataFrame(data)\n",
    "print(df)"
   ]
  },
  {
   "cell_type": "code",
   "execution_count": 2,
   "id": "f7dca1d7",
   "metadata": {
    "execution": {
     "iopub.execute_input": "2023-10-24T14:34:37.518634Z",
     "iopub.status.busy": "2023-10-24T14:34:37.517895Z",
     "iopub.status.idle": "2023-10-24T14:34:37.539914Z",
     "shell.execute_reply": "2023-10-24T14:34:37.538708Z"
    },
    "papermill": {
     "duration": 0.029794,
     "end_time": "2023-10-24T14:34:37.542767",
     "exception": false,
     "start_time": "2023-10-24T14:34:37.512973",
     "status": "completed"
    },
    "tags": []
   },
   "outputs": [
    {
     "name": "stdout",
     "output_type": "stream",
     "text": [
      "      Name  Age\n",
      "1     Deep   17\n",
      "0   Dixant   18\n",
      "2   Mitesh   20\n",
      "3  Prakash   19\n"
     ]
    }
   ],
   "source": [
    "#Write a Pandas program to implement following operation\n",
    "#to sort the DataFrame first by 'name' in ascending order\n",
    "\n",
    "# Developed By: Pankhaniya Dixant \n",
    "# Enrollement No: 216270307060\n",
    "\n",
    "import pandas as pd\n",
    "\n",
    "data = {\n",
    "    'Name': ['Dixant','Deep','Mitesh','Prakash'],\n",
    "    'Age':  [18, 17, 20, 19]  \n",
    "}\n",
    "\n",
    "df = pd.DataFrame(data)\n",
    "df_sorted = df.sort_values(by='Name', ascending=True)\n",
    "\n",
    "print(df_sorted)"
   ]
  },
  {
   "cell_type": "code",
   "execution_count": 3,
   "id": "89bfa742",
   "metadata": {
    "execution": {
     "iopub.execute_input": "2023-10-24T14:34:37.552043Z",
     "iopub.status.busy": "2023-10-24T14:34:37.550848Z",
     "iopub.status.idle": "2023-10-24T14:34:37.568298Z",
     "shell.execute_reply": "2023-10-24T14:34:37.566823Z"
    },
    "papermill": {
     "duration": 0.025394,
     "end_time": "2023-10-24T14:34:37.571191",
     "exception": false,
     "start_time": "2023-10-24T14:34:37.545797",
     "status": "completed"
    },
    "tags": []
   },
   "outputs": [
    {
     "name": "stdout",
     "output_type": "stream",
     "text": [
      "Original DataFrame:\n",
      "       Name  Age\n",
      "0   Dixant   18\n",
      "1     Deep   17\n",
      "2   Mitesh   20\n",
      "3  Prakash   19\n",
      "\n",
      "Modified DataFrame:\n",
      "       Name\n",
      "0   Dixant\n",
      "1     Deep\n",
      "2   Mitesh\n",
      "3  Prakash\n"
     ]
    }
   ],
   "source": [
    "#Write a Pandas program to implement following operation\n",
    "#to delete the one specific column from the DataFrame\n",
    "\n",
    "# Developed By: Pankhaniya Dixant \n",
    "# Enrollement No: 216270307060\n",
    "\n",
    "import pandas as pd\n",
    "\n",
    "data = {\n",
    "    'Name': ['Dixant','Deep','Mitesh','Prakash'],\n",
    "    'Age':  [18, 17, 20, 19]\n",
    "}\n",
    "\n",
    "df = pd.DataFrame(data)\n",
    "print('Original DataFrame:\\n', df)\n",
    "\n",
    "df = df.drop(columns=['Age'])\n",
    "print('\\nModified DataFrame:\\n', df)"
   ]
  },
  {
   "cell_type": "code",
   "execution_count": 4,
   "id": "b537b21f",
   "metadata": {
    "execution": {
     "iopub.execute_input": "2023-10-24T14:34:37.579027Z",
     "iopub.status.busy": "2023-10-24T14:34:37.578608Z",
     "iopub.status.idle": "2023-10-24T14:34:37.594478Z",
     "shell.execute_reply": "2023-10-24T14:34:37.592784Z"
    },
    "papermill": {
     "duration": 0.023195,
     "end_time": "2023-10-24T14:34:37.597506",
     "exception": false,
     "start_time": "2023-10-24T14:34:37.574311",
     "status": "completed"
    },
    "tags": []
   },
   "outputs": [
    {
     "name": "stdout",
     "output_type": "stream",
     "text": [
      "DataFrame has been written to 'output_file.csv' with tab separator.\n"
     ]
    }
   ],
   "source": [
    "#Write a Pandas program to implement following operation\n",
    "#to write a DataFrame to CSV file using tab separator\n",
    "\n",
    "# Developed By: Pankhaniya Dixant \n",
    "# Enrollement No: 216270307060\n",
    "\n",
    "import pandas as pd\n",
    "\n",
    "data = {\n",
    "    'Name': ['Dixant','Deep','Mitesh','Prakash'],\n",
    "    'Age':  [18, 17, 20, 19]\n",
    "}\n",
    "\n",
    "df = pd.DataFrame(data)\n",
    "df.to_csv('output_file.csv', sep='\\t', index=False)\n",
    "\n",
    "print(\"DataFrame has been written to 'output_file.csv' with tab separator.\")"
   ]
  }
 ],
 "metadata": {
  "kernelspec": {
   "display_name": "Python 3",
   "language": "python",
   "name": "python3"
  },
  "language_info": {
   "codemirror_mode": {
    "name": "ipython",
    "version": 3
   },
   "file_extension": ".py",
   "mimetype": "text/x-python",
   "name": "python",
   "nbconvert_exporter": "python",
   "pygments_lexer": "ipython3",
   "version": "3.10.12"
  },
  "papermill": {
   "default_parameters": {},
   "duration": 5.22504,
   "end_time": "2023-10-24T14:34:38.123296",
   "environment_variables": {},
   "exception": null,
   "input_path": "__notebook__.ipynb",
   "output_path": "__notebook__.ipynb",
   "parameters": {},
   "start_time": "2023-10-24T14:34:32.898256",
   "version": "2.4.0"
  }
 },
 "nbformat": 4,
 "nbformat_minor": 5
}
