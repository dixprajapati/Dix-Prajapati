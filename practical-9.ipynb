{
 "cells": [
  {
   "cell_type": "code",
   "execution_count": 1,
   "id": "a5ef1772",
   "metadata": {
    "_cell_guid": "b1076dfc-b9ad-4769-8c92-a6c4dae69d19",
    "_uuid": "8f2839f25d086af736a60e9eeb907d3b93b6e0e5",
    "execution": {
     "iopub.execute_input": "2023-10-24T15:50:55.861289Z",
     "iopub.status.busy": "2023-10-24T15:50:55.860908Z",
     "iopub.status.idle": "2023-10-24T15:50:56.305368Z",
     "shell.execute_reply": "2023-10-24T15:50:56.304210Z"
    },
    "papermill": {
     "duration": 0.452089,
     "end_time": "2023-10-24T15:50:56.308618",
     "exception": false,
     "start_time": "2023-10-24T15:50:55.856529",
     "status": "completed"
    },
    "tags": []
   },
   "outputs": [
    {
     "name": "stdout",
     "output_type": "stream",
     "text": [
      "Original DataFrame:\n",
      "     A    B  C\n",
      "0  1.0  NaN  1\n",
      "1  2.0  2.0  2\n",
      "2  NaN  3.0  3\n",
      "3  4.0  4.0  4\n",
      "4  5.0  NaN  5\n",
      "\n",
      "DataFrame after dropping missing values:\n",
      "     A    B  C\n",
      "1  2.0  2.0  2\n",
      "3  4.0  4.0  4\n"
     ]
    }
   ],
   "source": [
    "#Write a Pandas program to implement following operation\n",
    "#to find and drop the missing values from the given dataset\n",
    "\n",
    "# Developed By: Pankhaniya Dixant \n",
    "# Enrollement No: 216270307060\n",
    "\n",
    "\n",
    "import pandas as pd\n",
    "\n",
    "data = {'A': [1, 2, None, 4, 5],\n",
    "        'B': [None, 2, 3, 4, None],\n",
    "        'C': [1, 2, 3, 4, 5]}\n",
    "\n",
    "df = pd.DataFrame(data)\n",
    "print(\"Original DataFrame:\")\n",
    "print(df)\n",
    "\n",
    "df_cleaned = df.dropna()\n",
    "print(\"\\nDataFrame after dropping missing values:\")\n",
    "print(df_cleaned)"
   ]
  },
  {
   "cell_type": "code",
   "execution_count": 2,
   "id": "680482b2",
   "metadata": {
    "execution": {
     "iopub.execute_input": "2023-10-24T15:50:56.316946Z",
     "iopub.status.busy": "2023-10-24T15:50:56.316400Z",
     "iopub.status.idle": "2023-10-24T15:50:56.336344Z",
     "shell.execute_reply": "2023-10-24T15:50:56.335116Z"
    },
    "papermill": {
     "duration": 0.027626,
     "end_time": "2023-10-24T15:50:56.338840",
     "exception": false,
     "start_time": "2023-10-24T15:50:56.311214",
     "status": "completed"
    },
    "tags": []
   },
   "outputs": [
    {
     "name": "stdout",
     "output_type": "stream",
     "text": [
      "Original DataFrame:\n",
      "   A       B\n",
      "0  1   apple\n",
      "1  2  banana\n",
      "2  2  banana\n",
      "3  3  cherry\n",
      "4  4    date\n",
      "5  4    date\n",
      "\n",
      "DataFrame after removing duplicates:\n",
      "   A       B\n",
      "0  1   apple\n",
      "1  2  banana\n",
      "3  3  cherry\n",
      "4  4    date\n"
     ]
    }
   ],
   "source": [
    "#Write a Pandas program to implement following operation\n",
    "#to remove the duplicates from the given dataset.\n",
    "\n",
    "# Developed By: Pankhaniya Dixant \n",
    "# Enrollement No: 216270307060\n",
    "\n",
    "\n",
    "\n",
    "import pandas as pd\n",
    "\n",
    "\n",
    "data = {'A': [1, 2, 2, 3, 4, 4],\n",
    "        'B': ['apple', 'banana', 'banana', 'cherry', 'date', 'date']}\n",
    "\n",
    "df = pd.DataFrame(data)\n",
    "\n",
    "\n",
    "print(\"Original DataFrame:\")\n",
    "print(df)\n",
    "\n",
    "\n",
    "df_no_duplicates = df.drop_duplicates()\n",
    "\n",
    "# Display the DataFrame after removing duplicates\n",
    "print(\"\\nDataFrame after removing duplicates:\")\n",
    "print(df_no_duplicates)"
   ]
  },
  {
   "cell_type": "code",
   "execution_count": null,
   "id": "f510e224",
   "metadata": {
    "papermill": {
     "duration": 0.002084,
     "end_time": "2023-10-24T15:50:56.343452",
     "exception": false,
     "start_time": "2023-10-24T15:50:56.341368",
     "status": "completed"
    },
    "tags": []
   },
   "outputs": [],
   "source": []
  }
 ],
 "metadata": {
  "kernelspec": {
   "display_name": "Python 3",
   "language": "python",
   "name": "python3"
  },
  "language_info": {
   "codemirror_mode": {
    "name": "ipython",
    "version": 3
   },
   "file_extension": ".py",
   "mimetype": "text/x-python",
   "name": "python",
   "nbconvert_exporter": "python",
   "pygments_lexer": "ipython3",
   "version": "3.10.12"
  },
  "papermill": {
   "default_parameters": {},
   "duration": 4.491046,
   "end_time": "2023-10-24T15:50:56.764967",
   "environment_variables": {},
   "exception": null,
   "input_path": "__notebook__.ipynb",
   "output_path": "__notebook__.ipynb",
   "parameters": {},
   "start_time": "2023-10-24T15:50:52.273921",
   "version": "2.4.0"
  }
 },
 "nbformat": 4,
 "nbformat_minor": 5
}
